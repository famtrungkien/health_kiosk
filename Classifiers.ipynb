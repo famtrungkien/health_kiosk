{
 "cells": [
  {
   "cell_type": "code",
   "execution_count": null,
   "metadata": {},
   "outputs": [],
   "source": [
    "import sys\n",
    "import pickle\n",
    "import pandas as pd\n",
    "import sklearn.metrics as skm\n",
    "import matplotlib.pyplot as plt\n",
    "from sklearn.metrics import confusion_matrix, accuracy_score, precision_score, recall_score, f1_score
\n",
    "from xgboost import XGBRegressor\n",
    "from sklearn.metrics import classification_report\n"
    "import numpy as np\n"
    "from yellowbrick.classifier import ROCAUC\n"
    "from yellowbrick.classifier import ConfusionMatrix\n"
   ]
  },
  {
   "cell_type": "code",
   "execution_count": null,
   "metadata": {},
   "outputs": [],
   "source": [
    "%matplotlib auto"
   ]
  },
  {
   "cell_type": "markdown",
   "metadata": {},
   "source": [
    "# Training & Internal Validation"
   ]
  },
  {
   "cell_type": "code",
   "execution_count": null,
   "metadata": {},
   "outputs": [],
   "source": [
    "labels = ['Influenza', 'Covid-19', 'Other']\n",
    "obj = pd.read_pickle(f'models/Model.pkl')\n",
    "print(obj)\n",
    "title = f"Validation Covid-19 Flu and Other"\n",
    "title += '\n' + '-' * len(title)\n",
    "print(title)"
   ]
  },
  {
   "cell_type": "code",
   "execution_count": null,
   "metadata": {},
   "outputs": [],
   "source": [
    "data = pd.read_csv(f"data/Data_Test.csv")\n",
    "model = pickle.load(open(f"models/Model.pkl", 'rb'))\n",
    "print(skm.classification_report(data['Class'], model.predict(data.drop('Class', axis=1)), target_names=labels))
\n",
    "y_test = data['Class']\n",
    "X_test = data.loc[:, data.columns != 'Class']\n",
    "y_score = model.predict_proba(X_test)"
   ]
  },
  {
   "cell_type": "code",
   "execution_count": null,
   "metadata": {},
   "outputs": [],
   "source": [
    "train.head()"
   ]
  },
  {
   "cell_type": "code",
   "execution_count": null,
   "metadata": {},
   "outputs": [],
   "source": [
    "test.head()"
   ]
  },
  {
   "cell_type": "code",
   "execution_count": null,
   "metadata": {},
   "outputs": [],
   "source": [
    "train.Class.value_counts()"
   ]
  },
  {
   "cell_type": "code",
   "execution_count": null,
   "metadata": {},
   "outputs": [],
   "source": [
    "test.Class.value_counts()"
   ]
  },
  {
   "cell_type": "code",
   "execution_count": null,
   "metadata": {},
   "outputs": [],
   "source": [
    "columns = [\n",
    "            'sex_F', 'race_White', 'race_AA', 'race_Other',\n",
    "            'ethnicity_Hispanic_YN', 'Age', 'patient_class',\n",
    "            'encounter_type', 'reason_for_visit', 'SBP', 'DBP',\n",
    "            'Temp_C', 'HR', 'RR', 'SPO2', 'BMI', 'BSA', 'Month',\n",
    "            'Class'\n",
    "          ]"
   ]
  },
  {
   "cell_type": "code",
   "execution_count": null,
   "metadata": {},
   "outputs": [],
   "source": [
    "train = train[columns]\n",
    "test = test[columns]"
   ]
  },
  {
   "cell_type": "markdown",
   "metadata": {},
   "source": [
    "# 3Class"
   ]
  },
  {
   "cell_type": "code",
   "execution_count": null,
   "metadata": {},
   "outputs": [],
   "source": [
    "model = xgboost.XGBClassifier()\n",
    "model.fit(train.drop('Class', axis=1), train['Class'])"
   ]
  },
  {
   "cell_type": "code",
   "execution_count": null,
   "metadata": {},
   "outputs": [],
   "source": [
    "print(skm.classification_report(test['Class'], model.predict(test.drop('Class', axis=1))))"
   ]
  },
  {
   "cell_type": "code",
   "execution_count": null,
   "metadata": {},
   "outputs": [],
   "source": [
    "skm.confusion_matrix(test['Class'], model.predict(test.drop('Class', axis=1)))"
   ]
  },
  {
   "cell_type": "code",
   "execution_count": null,
   "metadata": {},
   "outputs": [],
   "source": [
    "skm.plot_confusion_matrix(model, test.drop('Class', axis=1), test['Class'], values_format='d')"
   ]
  },
  {
   "cell_type": "code",
   "execution_count": null,
   "metadata": {},
   "outputs": [],
   "source": [
    "clf = skmul.OneVsRestClassifier(xgboost.XGBClassifier())\n",
    "y_score = clf.fit(train.drop('Class', axis=1), train['Class']).predict_proba(test.drop('Class', axis=1))"
   ]
  },
  {
   "cell_type": "code",
   "execution_count": null,
   "metadata": {},
   "outputs": [],
   "source": [
    "cm = ConfusionMatrix(model)\n",
    "cm.score(X_test, y_test)\n",
    "cm.ax.tick_params(labelsize=22)\n",
    "cm.ax.title.set_fontsize(30)\n",
    "for xtick,ytick in zip(cm.ax.xaxis.get_major_ticks(),cm.ax.yaxis.get_major_ticks()):
\n",
    "    xtick.label.set_fontsize(30)\n",
    "    ytick.label.set_fontsize(30)"
   ]
  },
  {
   "cell_type": "code",
   "execution_count": null,
   "metadata": {},
   "outputs": [],
   "source": [
    "fpr = dict()\n",
    "tpr = dict()\n",
    "roc_auc = dict()\n",
    "for i in range(3):\n",
    "    fpr[i], tpr[i], _ = skm.roc_curve((y_test == i).astype(int), y_score[:, i], )\n",
    "    roc_auc[i] = skm.auc(fpr[i], tpr[i])\n",
    "plt.figure(figsize=(8, 6))\n",
    "plt.rcParams.update({'font.size': 22})\n",
    "for i in range(3):\n",
    "    plt.plot(fpr[i], tpr[i], label=f'Class {labels[i]} (AUC = %0.3f)' % roc_auc[i])\n",
    "    plt.plot([0, 1], [0, 1], 'k--')\n",
    "    plt.title('ROC curve',fontsize = 22)\n",
    "    plt.xlabel('False positive rate',fontsize = 20)\n",
    "    plt.ylabel('True positive rate',fontsize = 20)\n",
    "    plt.legend(loc='best')\n",
    "plt.show()\n",
   ]
  },
  {
   "cell_type": "code",
   "execution_count": null,
   "metadata": {},
   "outputs": [],
   "source": [
    "skm.confusion_matrix(df['Class'], model.predict(df.drop('Class', axis=1)))"
   ]
  },
  {
   "cell_type": "code",
   "execution_count": null,
   "metadata": {},
   "outputs": [],
   "source": [
    "skm.plot_confusion_matrix(model, df.drop('Class', axis=1), df['Class'])"
   ]
  }
 ],
 "metadata": {
  "kernelspec": {
   "display_name": "Python 3",
   "language": "python",
   "name": "python3"
  },
  "language_info": {
   "codemirror_mode": {
    "name": "ipython",
    "version": 3
   },
   "file_extension": ".py",
   "mimetype": "text/x-python",
   "name": "python",
   "nbconvert_exporter": "python",
   "pygments_lexer": "ipython3",
   "version": "3.8.0"
  }
 },
 "nbformat": 4,
 "nbformat_minor": 4
}
